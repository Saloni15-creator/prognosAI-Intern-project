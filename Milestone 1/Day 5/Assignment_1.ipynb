{
  "nbformat": 4,
  "nbformat_minor": 0,
  "metadata": {
    "colab": {
      "provenance": []
    },
    "kernelspec": {
      "name": "python3",
      "display_name": "Python 3"
    },
    "language_info": {
      "name": "python"
    }
  },
  "cells": [
    {
      "cell_type": "code",
      "execution_count": 1,
      "metadata": {
        "id": "GShT1W9RSfWE"
      },
      "outputs": [],
      "source": [
        "import pandas as pd\n",
        "import matplotlib.pyplot as plt\n",
        "import numpy as np\n",
        "from sklearn.preprocessing import StandardScaler"
      ]
    },
    {
      "cell_type": "markdown",
      "source": [
        "## Q1. Load and Inspect the CMAPSS Dataset"
      ],
      "metadata": {
        "id": "nVKV1GxSTEXo"
      }
    },
    {
      "cell_type": "code",
      "source": [
        "col_names = [\"engine_id\",\"cycle\",\"op_setting_1\",\"op_setting_2\",\"op_setting_3\"] + [f\"sensor_{i}\" for i in range(1, 22)]\n",
        "\n",
        "file_path = \"train_FD001.txt\"\n",
        "df = pd.read_csv(file_path, sep=r'\\s+', header=None, names=col_names)"
      ],
      "metadata": {
        "id": "2LByiiVTSjMI"
      },
      "execution_count": 3,
      "outputs": []
    },
    {
      "cell_type": "code",
      "source": [
        "print(\"=== Q1: Load & Inspect ===\")\n",
        "print(f\"Shape of dataset: {df.shape}\\n\")\n",
        "\n",
        "print(\"DataFrame info:\")\n",
        "df.info()\n",
        "\n",
        "print(\"\\nFirst 5 rows:\")\n",
        "print(df.head())"
      ],
      "metadata": {
        "colab": {
          "base_uri": "https://localhost:8080/"
        },
        "id": "nAAlONkgTAlQ",
        "outputId": "dd12b896-e76b-410e-b0a4-5312930414e6"
      },
      "execution_count": 4,
      "outputs": [
        {
          "output_type": "stream",
          "name": "stdout",
          "text": [
            "=== Q1: Load & Inspect ===\n",
            "Shape of dataset: (20631, 26)\n",
            "\n",
            "DataFrame info:\n",
            "<class 'pandas.core.frame.DataFrame'>\n",
            "RangeIndex: 20631 entries, 0 to 20630\n",
            "Data columns (total 26 columns):\n",
            " #   Column        Non-Null Count  Dtype  \n",
            "---  ------        --------------  -----  \n",
            " 0   engine_id     20631 non-null  int64  \n",
            " 1   cycle         20631 non-null  int64  \n",
            " 2   op_setting_1  20631 non-null  float64\n",
            " 3   op_setting_2  20631 non-null  float64\n",
            " 4   op_setting_3  20631 non-null  float64\n",
            " 5   sensor_1      20631 non-null  float64\n",
            " 6   sensor_2      20631 non-null  float64\n",
            " 7   sensor_3      20631 non-null  float64\n",
            " 8   sensor_4      20631 non-null  float64\n",
            " 9   sensor_5      20631 non-null  float64\n",
            " 10  sensor_6      20631 non-null  float64\n",
            " 11  sensor_7      20631 non-null  float64\n",
            " 12  sensor_8      20631 non-null  float64\n",
            " 13  sensor_9      20631 non-null  float64\n",
            " 14  sensor_10     20631 non-null  float64\n",
            " 15  sensor_11     20631 non-null  float64\n",
            " 16  sensor_12     20631 non-null  float64\n",
            " 17  sensor_13     20631 non-null  float64\n",
            " 18  sensor_14     20631 non-null  float64\n",
            " 19  sensor_15     20631 non-null  float64\n",
            " 20  sensor_16     20631 non-null  float64\n",
            " 21  sensor_17     20631 non-null  int64  \n",
            " 22  sensor_18     20631 non-null  int64  \n",
            " 23  sensor_19     20631 non-null  float64\n",
            " 24  sensor_20     20631 non-null  float64\n",
            " 25  sensor_21     20631 non-null  float64\n",
            "dtypes: float64(22), int64(4)\n",
            "memory usage: 4.1 MB\n",
            "\n",
            "First 5 rows:\n",
            "   engine_id  cycle  op_setting_1  op_setting_2  op_setting_3  sensor_1  \\\n",
            "0          1      1       -0.0007       -0.0004         100.0    518.67   \n",
            "1          1      2        0.0019       -0.0003         100.0    518.67   \n",
            "2          1      3       -0.0043        0.0003         100.0    518.67   \n",
            "3          1      4        0.0007        0.0000         100.0    518.67   \n",
            "4          1      5       -0.0019       -0.0002         100.0    518.67   \n",
            "\n",
            "   sensor_2  sensor_3  sensor_4  sensor_5  ...  sensor_12  sensor_13  \\\n",
            "0    641.82   1589.70   1400.60     14.62  ...     521.66    2388.02   \n",
            "1    642.15   1591.82   1403.14     14.62  ...     522.28    2388.07   \n",
            "2    642.35   1587.99   1404.20     14.62  ...     522.42    2388.03   \n",
            "3    642.35   1582.79   1401.87     14.62  ...     522.86    2388.08   \n",
            "4    642.37   1582.85   1406.22     14.62  ...     522.19    2388.04   \n",
            "\n",
            "   sensor_14  sensor_15  sensor_16  sensor_17  sensor_18  sensor_19  \\\n",
            "0    8138.62     8.4195       0.03        392       2388      100.0   \n",
            "1    8131.49     8.4318       0.03        392       2388      100.0   \n",
            "2    8133.23     8.4178       0.03        390       2388      100.0   \n",
            "3    8133.83     8.3682       0.03        392       2388      100.0   \n",
            "4    8133.80     8.4294       0.03        393       2388      100.0   \n",
            "\n",
            "   sensor_20  sensor_21  \n",
            "0      39.06    23.4190  \n",
            "1      39.00    23.4236  \n",
            "2      38.95    23.3442  \n",
            "3      38.88    23.3739  \n",
            "4      38.90    23.4044  \n",
            "\n",
            "[5 rows x 26 columns]\n"
          ]
        }
      ]
    },
    {
      "cell_type": "markdown",
      "source": [
        "## Q2. Visualize Sensor Distributions and Identify Missing Values"
      ],
      "metadata": {
        "id": "JUXbJkRuTTDc"
      }
    },
    {
      "cell_type": "code",
      "source": [
        "print(\"\\n=== Q2: Sensor Distributions & Missing Values ===\")\n",
        "sensors_to_plot = [\"sensor_2\", \"sensor_3\", \"sensor_4\"]\n",
        "plt.figure(figsize=(15, 4))\n",
        "for i, sensor in enumerate(sensors_to_plot, 1):\n",
        "    plt.subplot(1, 3, i)\n",
        "    df[sensor].hist(bins=50)\n",
        "    plt.title(f\"Distribution of {sensor}\")\n",
        "    plt.xlabel(sensor)\n",
        "    plt.ylabel(\"Frequency\")\n",
        "plt.tight_layout()\n",
        "plt.show()\n",
        "\n",
        "print(\"\\nMissing Values per Column:\")\n",
        "missing_values = df.isnull().sum()\n",
        "print(missing_values)"
      ],
      "metadata": {
        "colab": {
          "base_uri": "https://localhost:8080/",
          "height": 945
        },
        "id": "SFr68nFqTQDc",
        "outputId": "c76fa327-29e5-4534-e6b1-5d58e2abea8f"
      },
      "execution_count": 5,
      "outputs": [
        {
          "output_type": "stream",
          "name": "stdout",
          "text": [
            "\n",
            "=== Q2: Sensor Distributions & Missing Values ===\n"
          ]
        },
        {
          "output_type": "display_data",
          "data": {
            "text/plain": [
              "<Figure size 1500x400 with 3 Axes>"
            ],
            "image/png": "[encoded data removed]"
          },
          "metadata": {}
        },
        {
          "output_type": "stream",
          "name": "stdout",
          "text": [
            "\n",
            "Missing Values per Column:\n",
            "engine_id       0\n",
            "cycle           0\n",
            "op_setting_1    0\n",
            "op_setting_2    0\n",
            "op_setting_3    0\n",
            "sensor_1        0\n",
            "sensor_2        0\n",
            "sensor_3        0\n",
            "sensor_4        0\n",
            "sensor_5        0\n",
            "sensor_6        0\n",
            "sensor_7        0\n",
            "sensor_8        0\n",
            "sensor_9        0\n",
            "sensor_10       0\n",
            "sensor_11       0\n",
            "sensor_12       0\n",
            "sensor_13       0\n",
            "sensor_14       0\n",
            "sensor_15       0\n",
            "sensor_16       0\n",
            "sensor_17       0\n",
            "sensor_18       0\n",
            "sensor_19       0\n",
            "sensor_20       0\n",
            "sensor_21       0\n",
            "dtype: int64\n"
          ]
        }
      ]
    },
    {
      "cell_type": "markdown",
      "source": [
        "## Q3. Feature Engineering – Aggregation and Rolling Statistics"
      ],
      "metadata": {
        "id": "pB1Wf7efTdZQ"
      }
    },
    {
      "cell_type": "code",
      "source": [
        "print(\"\\n=== Q3: Feature Engineering ===\")\n",
        "agg_features = df.groupby('engine_id')['sensor_2'].agg(['mean','std']).reset_index()\n",
        "agg_features.rename(columns={'mean':'sensor_2_mean', 'std':'sensor_2_std'}, inplace=True)\n",
        "\n",
        "df = df.merge(agg_features, on='engine_id', how='left')\n",
        "\n",
        "df['sensor_2_rollmean5'] = (\n",
        "    df.groupby('engine_id')['sensor_2']\n",
        "      .rolling(window=5, min_periods=1)\n",
        "      .mean()\n",
        "      .reset_index(level=0, drop=True)\n",
        ")\n",
        "\n",
        "print(df[['engine_id','cycle','sensor_2','sensor_2_mean','sensor_2_std','sensor_2_rollmean5']].head(15))"
      ],
      "metadata": {
        "colab": {
          "base_uri": "https://localhost:8080/"
        },
        "id": "SKLLS3hDTawm",
        "outputId": "edb59b42-2b57-4489-cbf3-c2691d8347f7"
      },
      "execution_count": 6,
      "outputs": [
        {
          "output_type": "stream",
          "name": "stdout",
          "text": [
            "\n",
            "=== Q3: Feature Engineering ===\n",
            "    engine_id  cycle  sensor_2  sensor_2_mean  sensor_2_std  \\\n",
            "0           1      1    641.82     642.621042      0.486795   \n",
            "1           1      2    642.15     642.621042      0.486795   \n",
            "2           1      3    642.35     642.621042      0.486795   \n",
            "3           1      4    642.35     642.621042      0.486795   \n",
            "4           1      5    642.37     642.621042      0.486795   \n",
            "5           1      6    642.10     642.621042      0.486795   \n",
            "6           1      7    642.48     642.621042      0.486795   \n",
            "7           1      8    642.56     642.621042      0.486795   \n",
            "8           1      9    642.12     642.621042      0.486795   \n",
            "9           1     10    641.71     642.621042      0.486795   \n",
            "10          1     11    642.28     642.621042      0.486795   \n",
            "11          1     12    642.06     642.621042      0.486795   \n",
            "12          1     13    643.07     642.621042      0.486795   \n",
            "13          1     14    642.35     642.621042      0.486795   \n",
            "14          1     15    642.43     642.621042      0.486795   \n",
            "\n",
            "    sensor_2_rollmean5  \n",
            "0           641.820000  \n",
            "1           641.985000  \n",
            "2           642.106667  \n",
            "3           642.167500  \n",
            "4           642.208000  \n",
            "5           642.264000  \n",
            "6           642.330000  \n",
            "7           642.372000  \n",
            "8           642.326000  \n",
            "9           642.194000  \n",
            "10          642.230000  \n",
            "11          642.146000  \n",
            "12          642.248000  \n",
            "13          642.294000  \n",
            "14          642.438000  \n"
          ]
        }
      ]
    },
    {
      "cell_type": "markdown",
      "source": [
        "## Q4. Data Normalization"
      ],
      "metadata": {
        "id": "yqnUgp4aTnEB"
      }
    },
    {
      "cell_type": "code",
      "source": [
        "print(\"\\n=== Q4: Data Normalization ===\")\n",
        "sensor_cols = [c for c in df.columns if c.startswith(\"sensor_\") and not c.endswith((\"mean\",\"std\",\"rollmean5\"))]\n",
        "\n",
        "scaler = StandardScaler()\n",
        "df_scaled = df.copy()\n",
        "df_scaled[sensor_cols] = scaler.fit_transform(df[sensor_cols])\n",
        "\n",
        "print(\"\\nHead of normalized DataFrame:\")\n",
        "print(df_scaled[['engine_id','cycle'] + sensor_cols].head())\n",
        "\n",
        "print(\"\\nMeans & standard deviations after scaling:\")\n",
        "print(df_scaled[sensor_cols].describe().loc[['mean','std']])"
      ],
      "metadata": {
        "colab": {
          "base_uri": "https://localhost:8080/"
        },
        "id": "si8gBY_xTnwO",
        "outputId": "320aeb04-b0f4-4a45-f71e-2968cfce1d29"
      },
      "execution_count": 7,
      "outputs": [
        {
          "output_type": "stream",
          "name": "stdout",
          "text": [
            "\n",
            "=== Q4: Data Normalization ===\n",
            "\n",
            "Head of normalized DataFrame:\n",
            "   engine_id  cycle  sensor_1  sensor_2  sensor_3  sensor_4      sensor_5  \\\n",
            "0          1      1       0.0 -1.721725 -0.134255 -0.925936 -1.776357e-15   \n",
            "1          1      2       0.0 -1.061780  0.211528 -0.643726 -1.776357e-15   \n",
            "2          1      3       0.0 -0.661813 -0.413166 -0.525953 -1.776357e-15   \n",
            "3          1      4       0.0 -0.661813 -1.261314 -0.784831 -1.776357e-15   \n",
            "4          1      5       0.0 -0.621816 -1.251528 -0.301518 -1.776357e-15   \n",
            "\n",
            "   sensor_6  sensor_7  sensor_8  ...  sensor_12  sensor_13  sensor_14  \\\n",
            "0  0.141683  1.121141 -0.516338  ...   0.334262  -1.058890  -0.269071   \n",
            "1  0.141683  0.431930 -0.798093  ...   1.174899  -0.363646  -0.642845   \n",
            "2  0.141683  1.008155 -0.234584  ...   1.364721  -0.919841  -0.551629   \n",
            "3  0.141683  1.222827  0.188048  ...   1.961302  -0.224597  -0.520176   \n",
            "4  0.141683  0.714393 -0.516338  ...   1.052871  -0.780793  -0.521748   \n",
            "\n",
            "   sensor_15     sensor_16  sensor_17  sensor_18  sensor_19  sensor_20  \\\n",
            "0  -0.603816 -1.387779e-17  -0.781710        0.0        0.0   1.348493   \n",
            "1  -0.275852 -1.387779e-17  -0.781710        0.0        0.0   1.016528   \n",
            "2  -0.649144 -1.387779e-17  -2.073094        0.0        0.0   0.739891   \n",
            "3  -1.971665 -1.387779e-17  -0.781710        0.0        0.0   0.352598   \n",
            "4  -0.339845 -1.387779e-17  -0.136018        0.0        0.0   0.463253   \n",
            "\n",
            "   sensor_21  \n",
            "0   1.194427  \n",
            "1   1.236922  \n",
            "2   0.503423  \n",
            "3   0.777792  \n",
            "4   1.059552  \n",
            "\n",
            "[5 rows x 23 columns]\n",
            "\n",
            "Means & standard deviations after scaling:\n",
            "      sensor_1      sensor_2      sensor_3      sensor_4      sensor_5  \\\n",
            "mean       0.0  6.410348e-14 -4.959437e-14  9.285169e-16 -1.776357e-15   \n",
            "std        0.0  1.000024e+00  1.000024e+00  1.000024e+00  0.000000e+00   \n",
            "\n",
            "          sensor_6      sensor_7      sensor_8      sensor_9  sensor_10  ...  \\\n",
            "mean -6.469426e-12 -3.161641e-14  1.008249e-12 -4.185765e-14        0.0  ...   \n",
            "std   1.000024e+00  1.000024e+00  1.000024e+00  1.000024e+00        0.0  ...   \n",
            "\n",
            "         sensor_12     sensor_13     sensor_14     sensor_15     sensor_16  \\\n",
            "mean -1.199702e-13  3.493855e-13  3.061075e-15 -3.244023e-14 -1.387779e-17   \n",
            "std   1.000024e+00  1.000024e+00  1.000024e+00  1.000024e+00  0.000000e+00   \n",
            "\n",
            "         sensor_17  sensor_18  sensor_19     sensor_20     sensor_21  \n",
            "mean  1.666922e-14        0.0        0.0  4.156146e-14  2.402296e-14  \n",
            "std   1.000024e+00        0.0        0.0  1.000024e+00  1.000024e+00  \n",
            "\n",
            "[2 rows x 21 columns]\n"
          ]
        }
      ]
    },
    {
      "cell_type": "markdown",
      "source": [
        "## Q5. Rolling Window Sequence Generation"
      ],
      "metadata": {
        "id": "6vX3IPHXTt1q"
      }
    },
    {
      "cell_type": "code",
      "source": [
        "print(\"\\n=== Q5: Rolling Window Sequence Generation ===\")\n",
        "def generate_sequences(df, engine_col, cycle_col, feature_cols, window_size=30):\n",
        "    X, engine_ids, cycles = [], [], []\n",
        "    for eng in df[engine_col].unique():\n",
        "        e = df[df[engine_col] == eng].sort_values(cycle_col).reset_index(drop=True)\n",
        "        feats = e[feature_cols].values\n",
        "        for i in range(window_size - 1, len(e)):\n",
        "            seq = feats[i - window_size + 1 : i + 1]\n",
        "            X.append(seq)\n",
        "            engine_ids.append(eng)\n",
        "            cycles.append(e.loc[i, cycle_col])\n",
        "    return np.array(X), engine_ids, cycles\n",
        "\n",
        "feature_cols = [c for c in df_scaled.columns if c.startswith(\"sensor_\")]\n",
        "window_size = 30\n",
        "X, eng_ids, cyc_ids = generate_sequences(df_scaled, 'engine_id', 'cycle', feature_cols, window_size=window_size)\n",
        "\n",
        "print(\"Shape of sequence array:\", X.shape)\n",
        "print(\"Example sequence shape:\", X[0].shape)\n",
        "print(f\"Engine ID: {eng_ids[0]}, Cycle: {cyc_ids[0]}\")\n",
        "print(\"First sequence data:\\n\", X[0])\n",
        "\n",
        "assert X.shape[1] == window_size, \"Sequence window length mismatch\"\n",
        "assert all(cyc_ids[i] > cyc_ids[i-1] or eng_ids[i] != eng_ids[i-1] for i in range(1, len(cyc_ids))), \"Cycle order violation\"\n",
        "print(\"\\nBasic validation checks passed.\")"
      ],
      "metadata": {
        "colab": {
          "base_uri": "https://localhost:8080/"
        },
        "id": "a7hlYEuATruH",
        "outputId": "5ca002ad-669f-4b74-9075-a425531e8024"
      },
      "execution_count": 8,
      "outputs": [
        {
          "output_type": "stream",
          "name": "stdout",
          "text": [
            "\n",
            "=== Q5: Rolling Window Sequence Generation ===\n",
            "Shape of sequence array: (17731, 30, 24)\n",
            "Example sequence shape: (30, 24)\n",
            "Engine ID: 1, Cycle: 30\n",
            "First sequence data:\n",
            " [[ 0.00000000e+00 -1.72172539e+00 -1.34255176e-01 -9.25935964e-01\n",
            "  -1.77635684e-15  1.41683329e-01  1.12114057e+00 -5.16338406e-01\n",
            "  -8.62813315e-01  0.00000000e+00 -2.66466596e-01  3.34261840e-01\n",
            "  -1.05889024e+00 -2.69071040e-01 -6.03815700e-01 -1.38777878e-17\n",
            "  -7.81709786e-01  0.00000000e+00  0.00000000e+00  1.34849274e+00\n",
            "   1.19442705e+00  6.42621042e+02  4.86795224e-01  6.41820000e+02]\n",
            " [ 0.00000000e+00 -1.06177971e+00  2.11528494e-01 -6.43725866e-01\n",
            "  -1.77635684e-15  1.41683329e-01  4.31930175e-01 -7.98092999e-01\n",
            "  -9.58817615e-01  0.00000000e+00 -1.91582925e-01  1.17489932e+00\n",
            "  -3.63645998e-01 -6.42844737e-01 -2.75851811e-01 -1.38777878e-17\n",
            "  -7.81709786e-01  0.00000000e+00  0.00000000e+00  1.01652793e+00\n",
            "   1.23692196e+00  6.42621042e+02  4.86795224e-01  6.41985000e+02]\n",
            " [ 0.00000000e+00 -6.61812625e-01 -4.13165589e-01 -5.25953148e-01\n",
            "  -1.77635684e-15  1.41683329e-01  1.00815526e+00 -2.34583813e-01\n",
            "  -5.57139248e-01  0.00000000e+00 -1.01530330e+00  1.36472069e+00\n",
            "  -9.19841389e-01 -5.51629276e-01 -6.49144042e-01 -1.38777878e-17\n",
            "  -2.07309423e+00  0.00000000e+00  0.00000000e+00  7.39890586e-01\n",
            "   5.03422813e-01  6.42621042e+02  4.86795224e-01  6.42106667e+02]\n",
            " [ 0.00000000e+00 -6.61812625e-01 -1.26131421e+00 -7.84830915e-01\n",
            "  -1.77635684e-15  1.41683329e-01  1.22282735e+00  1.88048077e-01\n",
            "  -7.13825511e-01  0.00000000e+00 -1.53948899e+00  1.96130213e+00\n",
            "  -2.24597150e-01 -5.20175669e-01 -1.97166509e+00 -1.38777878e-17\n",
            "  -7.81709786e-01  0.00000000e+00  0.00000000e+00  3.52598304e-01\n",
            "   7.77792142e-01  6.42621042e+02  4.86795224e-01  6.42167500e+02]\n",
            " [ 0.00000000e+00 -6.21815917e-01 -1.25152788e+00 -3.01518345e-01\n",
            "  -1.77635684e-15  1.41683329e-01  7.14393452e-01 -5.16338406e-01\n",
            "  -4.57059294e-01  0.00000000e+00 -9.77861464e-01  1.05287130e+00\n",
            "  -7.80792541e-01 -5.21748350e-01 -3.39844765e-01 -1.38777878e-17\n",
            "  -1.36017565e-01  0.00000000e+00  0.00000000e+00  4.63253242e-01\n",
            "   1.05955189e+00  6.42621042e+02  4.86795224e-01  6.42208000e+02]\n",
            " [ 0.00000000e+00 -1.16177148e+00 -9.87296965e-01 -1.17370310e+00\n",
            "  -1.77635684e-15  1.41683329e-01  1.47139503e+00 -1.07984759e+00\n",
            "  -7.04768501e-01  0.00000000e+00 -1.42716349e+00  3.61379178e-01\n",
            "  -9.19841389e-01 -5.71549894e-01 -8.35790158e-01 -1.38777878e-17\n",
            "  -1.42740201e+00  0.00000000e+00  0.00000000e+00  9.05872993e-01\n",
            "   7.13125970e-01  6.42621042e+02  4.86795224e-01  6.42264000e+02]\n",
            " [ 0.00000000e+00 -4.01834022e-01  2.93081246e-01 -1.24036690e+00\n",
            "  -1.77635684e-15  1.41683329e-01  1.09854351e+00 -1.07984759e+00\n",
            "  -2.76824808e-01  0.00000000e+00 -6.78326783e-01  1.22913400e+00\n",
            "  -9.19841389e-01 -5.99333914e-01 -1.19308415e+00 -1.38777878e-17\n",
            "  -7.81709786e-01  0.00000000e+00  0.00000000e+00  1.56980262e+00\n",
            "   8.10125227e-01  6.42621042e+02  4.86795224e-01  6.42330000e+02]\n",
            " [ 0.00000000e+00 -2.41847189e-01 -1.23358628e+00 -8.84826619e-01\n",
            "  -1.77635684e-15  1.41683329e-01  5.44915486e-01 -1.36160219e+00\n",
            "  -1.10689972e+00  0.00000000e+00 -1.12762881e+00  1.43251403e+00\n",
            "  -9.19841389e-01 -6.64862261e-01 -9.21114096e-01 -1.38777878e-17\n",
            "  -1.42740201e+00  0.00000000e+00  0.00000000e+00  8.50545524e-01\n",
            "   1.93025189e-01  6.42621042e+02  4.86795224e-01  6.42372000e+02]\n",
            " [ 0.00000000e+00 -1.12177477e+00  7.45198700e-02 -1.57035272e+00\n",
            "  -1.77635684e-15  1.41683329e-01  3.64138989e-01 -6.57215703e-01\n",
            "  -8.50586353e-01  0.00000000e+00 -9.40419629e-01  5.10524538e-01\n",
            "  -6.41743693e-01 -9.46896271e-01 -1.84901193e+00 -1.38777878e-17\n",
            "  -7.81709786e-01  0.00000000e+00  0.00000000e+00  1.29316527e+00\n",
            "   1.07987554e+00  6.42621042e+02  4.86795224e-01  6.42326000e+02]\n",
            " [ 0.00000000e+00 -1.94170729e+00  1.16927301e-01 -9.41490852e-01\n",
            "  -1.77635684e-15  1.41683329e-01  2.51153678e-01 -6.57215703e-01\n",
            "  -6.13292706e-01  0.00000000e+00 -1.91390734e+00  5.10524538e-01\n",
            "  -5.02694846e-01 -7.53456588e-01 -3.61175749e-01 -1.38777878e-17\n",
            "  -1.36017565e-01  0.00000000e+00  0.00000000e+00  7.39890586e-01\n",
            "   1.66002348e+00  6.42621042e+02  4.86795224e-01  6.42194000e+02]\n",
            " [ 0.00000000e+00 -8.01801103e-01 -1.43094394e+00 -9.21491711e-01\n",
            "  -1.77635684e-15  1.41683329e-01  1.32451413e+00 -6.57215703e-01\n",
            "  -7.07938455e-01  0.00000000e+00 -1.46460532e+00 -1.82635555e-02\n",
            "  -1.19793908e+00 -1.66322591e-01 -2.17191603e-01 -1.38777878e-17\n",
            "  -7.81709786e-01  0.00000000e+00  0.00000000e+00  6.84563117e-01\n",
            "   1.74593711e+00  6.42621042e+02  4.86795224e-01  6.42230000e+02]\n",
            " [ 0.00000000e+00 -1.24176489e+00 -1.16018880e+00 -9.75933816e-01\n",
            "  -1.77635684e-15  1.41683329e-01  1.30191707e+00 -9.37065165e-02\n",
            "  -7.18806866e-01  0.00000000e+00 -1.35227982e+00  5.24083207e-01\n",
            "  -1.05889024e+00 -4.98158144e-01 -1.28907358e+00 -1.38777878e-17\n",
            "  -1.42740201e+00  0.00000000e+00  0.00000000e+00  1.34849274e+00\n",
            "   7.04811748e-01  6.42621042e+02  4.86795224e-01  6.42146000e+02]\n",
            " [ 0.00000000e+00  7.78068870e-01 -1.35917752e+00 -9.00381507e-01\n",
            "  -1.77635684e-15  1.41683329e-01  8.16757124e-02  3.28925373e-01\n",
            "  -8.34283736e-01  0.00000000e+00 -6.03443112e-01  5.91876552e-01\n",
            "  -2.24597150e-01 -8.20557616e-01 -7.18469742e-01 -1.38777878e-17\n",
            "  -1.36017565e-01  0.00000000e+00  0.00000000e+00  6.29235648e-01\n",
            "  -1.29381867e-01  6.42621042e+02  4.86795224e-01  6.42248000e+02]\n",
            " [ 0.00000000e+00 -6.61812625e-01  3.95837714e-01 -1.08592909e+00\n",
            "  -1.77635684e-15  1.41683329e-01  1.25672294e+00 -9.37065165e-02\n",
            "  -8.09376960e-01  0.00000000e+00 -3.78792101e-01  3.47820509e-01\n",
            "  -1.33698793e+00 -4.88722062e-01 -1.21974788e+00 -1.38777878e-17\n",
            "  -1.36017565e-01  0.00000000e+00  0.00000000e+00  2.01242237e+00\n",
            "   8.58162955e-01  6.42621042e+02  4.86795224e-01  6.42294000e+02]\n",
            " [ 0.00000000e+00 -5.01825792e-01 -1.09331554e+00 -7.55943267e-01\n",
            "  -1.77635684e-15  1.41683329e-01  3.07646334e-01  1.88048077e-01\n",
            "  -5.89744482e-01  0.00000000e+00 -9.02977794e-01  1.47319004e+00\n",
            "  -2.24597150e-01 -8.48865862e-01 -5.93150207e-01 -1.38777878e-17\n",
            "  -1.42740201e+00  0.00000000e+00  0.00000000e+00  9.61200462e-01\n",
            "   5.57003355e-01  6.42621042e+02  4.86795224e-01  6.42438000e+02]\n",
            " [ 0.00000000e+00 -1.10177641e+00 -4.14796644e-01 -4.92621246e-01\n",
            "  -1.77635684e-15  1.41683329e-01  6.46602265e-01 -6.57215703e-01\n",
            "  -7.20165417e-01  0.00000000e+00 -1.12762881e+00  1.03764466e-01\n",
            "  -3.63645998e-01 -4.00651963e-01 -1.29440633e+00 -1.38777878e-17\n",
            "  -7.81709786e-01  0.00000000e+00  0.00000000e+00  8.50545524e-01\n",
            "   1.52699593e+00  6.42621042e+02  4.86795224e-01  6.42408000e+02]\n",
            " [ 0.00000000e+00 -2.01850481e-01 -9.07375268e-01 -9.98155084e-01\n",
            "  -1.77635684e-15  1.41683329e-01  4.88422831e-01 -5.16338406e-01\n",
            "  -4.67474855e-01  0.00000000e+00 -1.57693083e+00  6.46111229e-01\n",
            "  -7.80792541e-01 -3.39841656e-01  3.21415760e-01 -1.38777878e-17\n",
            "  -7.81709786e-01  0.00000000e+00  0.00000000e+00 -3.46939782e-02\n",
            "   3.89795111e-01  6.42621042e+02  4.86795224e-01  6.42512000e+02]\n",
            " [ 0.00000000e+00 -1.21857064e-01  8.43062003e-02 -1.42369236e+00\n",
            "  -1.77635684e-15  1.41683329e-01  9.40364073e-01 -6.57215703e-01\n",
            "  -7.10655557e-01  0.00000000e+00 -1.23995431e+00  4.69848531e-01\n",
            "  -3.63645998e-01 -5.77840615e-01 -1.04910000e+00 -1.38777878e-17\n",
            "  -7.81709786e-01  0.00000000e+00  0.00000000e+00  4.07925773e-01\n",
            "   1.00689515e+00  6.42621042e+02  4.86795224e-01  6.42422000e+02]\n",
            " [ 0.00000000e+00 -1.78172045e+00 -4.83300956e-01 -9.53712549e-01\n",
            "  -1.77635684e-15  1.41683329e-01  9.17767011e-01 -7.98092999e-01\n",
            "  -5.09589949e-01  0.00000000e+00 -5.28559442e-01  6.46111229e-01\n",
            "  -9.19841389e-01 -7.66562257e-01 -2.67852691e-01 -1.38777878e-17\n",
            "  -1.42740201e+00  0.00000000e+00  0.00000000e+00 -9.00214471e-02\n",
            "   5.23746467e-01  6.42621042e+02  4.86795224e-01  6.42310000e+02]\n",
            " [ 0.00000000e+00  7.18073808e-01 -1.53533146e+00 -4.11513620e-01\n",
            "  -1.77635684e-15  1.41683329e-01  1.62957447e+00 -6.57215703e-01\n",
            "  -8.75945979e-01  0.00000000e+00 -1.20251248e+00  8.90167272e-01\n",
            "  -1.05889024e+00 -7.36157104e-01 -5.63820104e-01 -1.38777878e-17\n",
            "  -7.81709786e-01  0.00000000e+00  0.00000000e+00  1.18251034e+00\n",
            "   1.22214112e+00  6.42621042e+02  4.86795224e-01  6.42432000e+02]\n",
            " [ 0.00000000e+00 -6.21815917e-01 -7.26328158e-01 -1.20036862e+00\n",
            "  -1.77635684e-15  1.41683329e-01  8.04781700e-01  1.88048077e-01\n",
            "  -7.74054623e-01  0.00000000e+00 -1.46460532e+00  1.36472069e+00\n",
            "  -2.24597150e-01 -5.10215360e-01 -9.93106170e-01 -1.38777878e-17\n",
            "  -7.81709786e-01  0.00000000e+00  0.00000000e+00  1.51447515e+00\n",
            "   1.88406177e-01  6.42621042e+02  4.86795224e-01  6.42480000e+02]\n",
            " [ 0.00000000e+00  1.78118247e-01  3.92575604e-01 -9.29269155e-01\n",
            "  -1.77635684e-15  1.41683329e-01  2.96347803e-01 -7.98092999e-01\n",
            "  -1.82631910e-01  0.00000000e+00 -1.12762881e+00  7.95256588e-01\n",
            "  -9.19841389e-01 -6.99461229e-01 -1.03310177e+00 -1.38777878e-17\n",
            "  -7.81709786e-01  0.00000000e+00  0.00000000e+00  5.73908179e-01\n",
            "   8.26753672e-01  6.42621042e+02  4.86795224e-01  6.42518000e+02]\n",
            " [ 0.00000000e+00 -1.08177806e+00 -3.80544488e-01 -1.57590804e+00\n",
            "  -1.77635684e-15  1.41683329e-01  6.91796390e-01 -6.57215703e-01\n",
            "  -8.58737661e-01  0.00000000e+00 -1.09018697e+00  1.44440473e-01\n",
            "  -6.41743693e-01 -8.31042152e-01 -4.83828911e-01 -1.38777878e-17\n",
            "  -7.81709786e-01  0.00000000e+00  0.00000000e+00  6.84563117e-01\n",
            "   1.53808156e+00  6.42621042e+02  4.86795224e-01  6.42422000e+02]\n",
            " [ 0.00000000e+00 -6.01817562e-01  5.00540443e-02 -1.12481631e+00\n",
            "  -1.77635684e-15  1.41683329e-01  1.38168368e-01  3.28925373e-01\n",
            "  -9.72855979e-01  0.00000000e+00 -3.78792101e-01  9.71519286e-01\n",
            "  -9.19841389e-01 -5.17554535e-01 -1.41439312e+00 -1.38777878e-17\n",
            "  -7.81709786e-01  0.00000000e+00  0.00000000e+00  1.01652793e+00\n",
            "   7.38068636e-01  6.42621042e+02  4.86795224e-01  6.42540000e+02]\n",
            " [ 0.00000000e+00  1.78118247e-01  5.83409044e-01 -1.06037463e+00\n",
            "  -1.77635684e-15  1.41683329e-01  7.14393452e-01 -1.07984759e+00\n",
            "  -5.01891491e-01  0.00000000e+00 -6.78326783e-01  1.55454206e+00\n",
            "  -1.05889024e+00 -3.74440624e-01 -1.34506742e+00 -1.38777878e-17\n",
            "  -1.36017565e-01  0.00000000e+00  0.00000000e+00  7.39890586e-01\n",
            "   1.28495969e+00  6.42621042e+02  4.86795224e-01  6.42486000e+02]\n",
            " [ 0.00000000e+00 -1.04178135e+00 -2.35380589e-01 -1.42924768e+00\n",
            "  -1.77635684e-15  1.41683329e-01  8.38677293e-01 -3.75461110e-01\n",
            "  -8.21151072e-01  0.00000000e+00 -1.05274513e+00  1.17489932e+00\n",
            "  -5.02694846e-01 -6.60668447e-01 -4.30501449e-01 -1.38777878e-17\n",
            "   5.09674655e-01  0.00000000e+00  0.00000000e+00  2.41943366e-01\n",
            "   1.15655115e+00  6.42621042e+02  4.86795224e-01  6.42444000e+02]\n",
            " [ 0.00000000e+00 -4.81827438e-01 -8.66393735e-03 -7.88164105e-01\n",
            "  -1.77635684e-15  1.41683329e-01  7.93483169e-01 -1.07984759e+00\n",
            "  -7.82658782e-01  0.00000000e+00 -6.40884948e-01  7.95256588e-01\n",
            "   4.70647089e-01 -4.79810207e-01 -1.00110529e+00 -1.38777878e-17\n",
            "  -1.36017565e-01  0.00000000e+00  0.00000000e+00  9.61200462e-01\n",
            "   1.45493934e+00  6.42621042e+02  4.86795224e-01  6.42378000e+02]\n",
            " [ 0.00000000e+00 -6.61812625e-01 -1.25315894e+00 -1.08926228e+00\n",
            "  -1.77635684e-15  1.41683329e-01  1.48269356e+00  3.28925373e-01\n",
            "  -6.97522894e-01  0.00000000e+00 -4.91117607e-01  1.56810073e+00\n",
            "  -2.24597150e-01 -8.62495759e-01 -2.62519945e-01 -1.38777878e-17\n",
            "  -2.07309423e+00  0.00000000e+00  0.00000000e+00  1.07185540e+00\n",
            "  -5.17824612e-02  6.42621042e+02  4.86795224e-01  6.42420000e+02]\n",
            " [ 0.00000000e+00 -1.54174021e+00 -9.28578983e-01 -8.82604493e-01\n",
            "  -1.77635684e-15  1.41683329e-01  9.96856728e-01 -6.57215703e-01\n",
            "  -6.68993314e-01  0.00000000e+00 -1.12762881e+00  1.35116202e+00\n",
            "  -5.02694846e-01 -5.60541132e-01 -6.19813938e-01 -1.38777878e-17\n",
            "  -1.36017565e-01  0.00000000e+00  0.00000000e+00  6.29235648e-01\n",
            "   6.46612193e-01  6.42621042e+02  4.86795224e-01  6.42326000e+02]\n",
            " [ 0.00000000e+00 -9.61787936e-01  4.88807852e-01 -1.42813661e+00\n",
            "  -1.77635684e-15  1.41683329e-01  1.13243910e+00 -3.75461110e-01\n",
            "  -8.88625792e-01  0.00000000e+00 -5.28559442e-01  1.05287130e+00\n",
            "  -1.33698793e+00 -3.08912276e-01 -9.50444200e-01 -1.38777878e-17\n",
            "  -2.07309423e+00  0.00000000e+00  0.00000000e+00  1.29316527e+00\n",
            "   1.12052285e+00  6.42621042e+02  4.86795224e-01  6.42212000e+02]]\n",
            "\n",
            "Basic validation checks passed.\n"
          ]
        }
      ]
    },
    {
      "cell_type": "code",
      "source": [
        "np.save(\"train_FD001_sequences.npy\", X)\n",
        "pd.DataFrame({\"engine_id\": eng_ids, \"cycle\": cyc_ids}).to_csv(\"sequence_meta.csv\", index=False)\n",
        "print(\"\\nFiles saved: train_FD001_sequences.npy and sequence_meta.csv\")"
      ],
      "metadata": {
        "colab": {
          "base_uri": "https://localhost:8080/"
        },
        "id": "nbo6w3qDT-OT",
        "outputId": "a20d7c84-cf1f-4f37-cab4-e202c99092b2"
      },
      "execution_count": 9,
      "outputs": [
        {
          "output_type": "stream",
          "name": "stdout",
          "text": [
            "\n",
            "Files saved: train_FD001_sequences.npy and sequence_meta.csv\n"
          ]
        }
      ]
    }
  ]
}